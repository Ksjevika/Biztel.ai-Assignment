{
 "cells": [
  {
   "cell_type": "code",
   "execution_count": 3,
   "id": "4c41bf9f",
   "metadata": {},
   "outputs": [
    {
     "name": "stdout",
     "output_type": "stream",
     "text": [
      "width of document 1263\n",
      "height of document 1644\n",
      "bounding box width 358\n",
      "bounding box height 140\n",
      "bounding box left 498\n",
      "bounding box top 171\n",
      "Words inside the bounding box: ['Ref.:', 'Cust.', 'NO', 'REFERENCE', 'INFORMATION', 'P.O.#:', 'Dept.#:', 'for', 'assessed', 'packaging.', 'dimensional', 'of', 'weight', 'lbs,', '55.0', '29', 'in', 'in', 'of', 'in,', 'dimensional', 'factor', '29', 'using', '9', '139.', 'x', 'a', 'Sender', 'Recipient', 'Transportation', 'Charge', '34.65', 'Schwantner', 'Brian', 'WARRANTY', 'BUILDING', 'Discount', 'Grace', '-2.25', 'Schwantner', 'Brian', 'MICHELIN', 'NORTH', 'AMERICA', 'Performance', 'INC.', 'Pricing', '-19.01', 'Lindbergh', 'So', '5655', 'HARRISON', '101', 'RD', 'BRIDGE', 'Fuel', 'Surcharge', '4.70', 'St.Louis', 'MO', '63123', 'SIMPSONVILLE', 'SC', '29681-713001', 'Additional', 'Handling', '16.00', 'Total', 'Charge', '$34.09', 'USD', 'Ref.:', 'Cust.', 'NO', 'REFERENCE', 'INFORMATION', 'P.O.#:', 'Dept.#:', 'for', 'assessed', 'packaging.', 'dimensional', 'of', 'weight', 'lbs,', '55.0', 'dimensional', 'factor', '29', 'in', 'in', 'using', 'in,', 'of', '29', '9', '139.', 'X', 'x', 'a', 'Sender', 'Recipient', 'Charge', 'Transportation', '34.65', 'Schwantner', 'Brian', 'WARRANTY', 'BUILDING', 'Discount', 'Grace', '-2.25', 'Schwantner', 'Brian', 'MICHELIN', 'NORTH', 'Performance', 'INC.', 'AMERICA', 'Pricing', '-19.01', 'Lindbergh', 'So', '5655', 'HARRISON', '101', 'BRIDGE', 'RD', 'Fuel', 'Surcharge', '4.70', 'St.Louis', 'MO', '63123', 'SIMPSONVILLE', 'SC', '29681-713001', 'Additional', 'Handling', '16.00', 'Total', 'Charge', '$34.09', 'USD', 'Ref.:', 'Cust.', 'NO', 'REFERENCE', 'INFORMATION', 'P.O.#:', 'Dept.#:', 'Sender', 'Recipient', 'Transportation', 'Charge', '22.92', 'Schwantner', 'Brian', 'WARRANTY', 'BUILDING', 'Discount', 'Grace', '-1.49', 'Brian', 'Schwantner', 'MICHELIN', 'NORTH', 'Performance', 'INC.', 'AMERICA', 'Pricing', '-12.57', 'So', 'Lindbergh', '5655', 'HARRISON', '101', 'BRIDGE', 'Surcharge', 'Fuel', 'RD', '1.42', 'St.Louis', '63123', 'MO', 'SIMPSONVILLE', 'SC', '29681-713001', 'Total', 'Charge', '$10.28', 'USD', 'Cust.', 'Ref.:', 'NO', 'REFERENCE', 'INFORMATION', 'P.O.#:', 'Dept.#:', 'for', 'assessed', 'packaging.', 'dimensional', 'of', 'weight', '55.0', 'lbs,', '29', 'in', 'factor', 'in', '29', 'using', 'dimensional', 'of', 'in,', '139.', '9', 'x', 'x', 'a', 'Sender', 'Recipient', 'Transportation', 'Charge', '34.65', 'Schwantner', 'Brian', 'WARRANTY', 'BUILDING', 'Discount', 'Grace', '-2.25', 'Brian', 'Schwantner', 'MICHELIN', 'NORTH', 'AMERICA', 'Performance', 'INC.', 'Pricing', '-19.01', 'Lindbergh', 'So', '5655', 'HARRISON', '101', 'BRIDGE', 'RD', 'Surcharge', 'Fuel', '4.70', 'St.Louis', '63123', 'MO', 'SIMPSONVILLE', 'SC', '29681-713001', 'Additional', 'Handling', '16.00', 'Total', 'Charge', '$34.09', 'USD', 'Ref.:', 'LOCK', 'Cust.', 'T211399', 'P.O.#:', 'Dept.#:', 'for', 'charge', 'this', 'parcel.', 'Sender', 'Recipient', 'Transportation', 'Charge', '9.36', 'Schwantner', 'Brian', 'BRIAN', 'MCGEE', 'Performance', 'Pricing', '-1.19', 'Schwantner', 'Brian', 'ENCLAVE', 'CT', '2', 'Fuel', 'Surcharge', '2,14', 'Lindbergh', 'So', '5655', 'SAINT', 'CHARLES', '63304-769802', 'Residential', 'MO', '5.20', 'St.Louis', '63123', 'MO', 'Charge', 'Total', '$15.51', 'USD', 'Prepaid', 'Subtotal', '$137.56', 'USD']\n"
     ]
    }
   ],
   "source": [
    "with open(\"words_position_dict.txt\", \"r\") as file:\n",
    "    content = file.read().strip()\n",
    "data = eval(content)\n",
    "# data\n",
    "\n",
    "1263\n",
    "width = int(input('width of document '))\n",
    "height = int(input(\"height of document \"))\n",
    "\n",
    "x1 = int(input(\"bounding box width \"))\n",
    "y1 = int(input(\"bounding box height \"))\n",
    "x3 = int(input(\"bounding box left \"))\n",
    "y3 = int(input(\"bounding box top \"))\n",
    "\n",
    "\n",
    "def user_box(word_box):\n",
    "    word_x1 = word_box[0] * width\n",
    "    word_y1 = word_box[1] * height\n",
    "    word_x3 = word_x1 + (word_box[2] * width)\n",
    "    word_y3 = word_y1 + (word_box[3] * height)\n",
    "    return not (word_x3 < x1 or word_x1 > x3 or word_y3 < y1 or word_y1 > y3)\n",
    "\n",
    "words_inside = [word[\"word\"] for word in data if user_box(word[\"bounding_box\"])]\n",
    "\n",
    "print(\"Words inside the bounding box:\", words_inside)\n"
   ]
  },
  {
   "cell_type": "code",
   "execution_count": null,
   "id": "37fced36",
   "metadata": {},
   "outputs": [],
   "source": []
  }
 ],
 "metadata": {
  "kernelspec": {
   "display_name": "Python 3 (ipykernel)",
   "language": "python",
   "name": "python3"
  },
  "language_info": {
   "codemirror_mode": {
    "name": "ipython",
    "version": 3
   },
   "file_extension": ".py",
   "mimetype": "text/x-python",
   "name": "python",
   "nbconvert_exporter": "python",
   "pygments_lexer": "ipython3",
   "version": "3.10.5"
  }
 },
 "nbformat": 4,
 "nbformat_minor": 5
}
